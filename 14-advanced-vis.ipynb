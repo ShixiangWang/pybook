{
 "cells": [
  {
   "cell_type": "markdown",
   "metadata": {},
   "source": [
    "# 第 14 章 数据可视化进阶\n",
    "\n",
    "**本章内容提要**:\n",
    "\n",
    "- Seaborn\n",
    "- Bokeh\n",
    "- Plotly\n",
    "- PyEcharts\n",
    "- plotnine <https://zhuanlan.zhihu.com/p/47814353> <https://plotnine.readthedocs.io/en/stable/about-plotnine.html>\n",
    "\n"
   ]
  },
  {
   "cell_type": "code",
   "execution_count": null,
   "metadata": {},
   "outputs": [],
   "source": []
  },
  {
   "cell_type": "markdown",
   "metadata": {},
   "source": [
    "- 使用 Seaborn https://mp.weixin.qq.com/s/AU-IEEQvmBxBZ7GBZIZwBA\n",
    "- 时间序列可视化 \n",
    "- Python 里的 ggplot2?\n",
    "- PyEcharts https://mp.weixin.qq.com/s/5GJKIt5OkMh7C3xqoTJsTA\n",
    "- Plotly?"
   ]
  },
  {
   "cell_type": "code",
   "execution_count": null,
   "metadata": {},
   "outputs": [],
   "source": []
  }
 ],
 "metadata": {
  "kernelspec": {
   "display_name": "Python 3",
   "language": "python",
   "name": "python3"
  },
  "language_info": {
   "codemirror_mode": {
    "name": "ipython",
    "version": 3
   },
   "file_extension": ".py",
   "mimetype": "text/x-python",
   "name": "python",
   "nbconvert_exporter": "python",
   "pygments_lexer": "ipython3",
   "version": "3.7.4"
  }
 },
 "nbformat": 4,
 "nbformat_minor": 2
}
