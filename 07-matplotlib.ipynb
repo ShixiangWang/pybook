{
 "cells": [
  {
   "cell_type": "markdown",
   "metadata": {},
   "source": [
    "# 第7章 Matplotlib"
   ]
  },
  {
   "cell_type": "markdown",
   "metadata": {},
   "source": [
    "**本章内容提要**：\n",
    "\n",
    "- Matplotlib库简介\n",
    "- 基本图形绘制\n",
    "\n",
    "简单的图形可以给数据分析师带来比其他任何设备更多的信息。在上一章中，本书介绍了Python数据分析最核心的底层库NumPy、基于ndarray对象的数组操作方法与基本统计。本章将开始指引读者从更直观的角度——“图形”——了解数据的分布与规律，学习如何绘制和自定义图形。\n",
    "\n",
    "## 7.1 Matplotlib入门\n",
    "\n",
    "### 7.1.1 Matplotlib库简介\t\n",
    "\n",
    "数据可视化是数据分析最核心的工作之一，它既能帮助我们探索数据，如寻找异常值，也能够帮助我们汇总分析结果，即所谓的“一图胜千言”。Python有着众多的库可以进行静态或动态的数据可视化，其中最流行的是Matplotlib（<https://matplotlib.org/>）。因此，本书主要利用Matplotlib向读者介绍如何合理地选择和创建图形。\n",
    "\n",
    "Matplotlib库的历史并不是很久远，它是John Hunter在2002年启动的一个项目，目的是为Python构建商业科学计算软件MATLAB的绘图接口，在2003年发布了0.1版本（实验版本）。Matplotlib的最重要特点是它可以很好地与许多的操作系统和图形后端工作，这意味着我们可以不管使用什么操作系统或是想要什么输出格式的图形（PDF、JPG、PNG、GIF等）都可以依靠它。这种跨平台，一切皆可用的特性成为了Matplotlib最大的长处，并为Matplotlib带来了大量的基础用户和活跃的开发者。\n",
    "\n",
    "目前，Matplotlib已经和IPython合作，简化了在IPython Shell和Jupyter Notebook中进行交互式绘图的方式。除此之外，Python社区出现了许多以Matplotlib为底层的可视化计算库，其中最有名的是Seaborn（<https://seaborn.pydata.org/>），在本书后续的章节我们会学习它。\n",
    "\n",
    "### 7.1.2 通用技巧\n",
    "\n",
    "在深入了解如何使用Matplotlib创建图形之前，本书先向读者介绍一些Python科学计算社区通用的约定和使用技巧。\n",
    "\n",
    "#### 导入Matplotlib\n",
    "\n",
    "在导入NumPy包时，我们使用Python社区约定的np替代numpy。这里，我们也使用Matplotlib的一些标准简写用于导入。"
   ]
  },
  {
   "cell_type": "code",
   "execution_count": 1,
   "metadata": {},
   "outputs": [],
   "source": [
    "import matplotlib as mpl\n",
    "import matplotlib.pyplot as plt"
   ]
  },
  {
   "cell_type": "markdown",
   "metadata": {},
   "source": [
    "后面读者将看到，plt是使用Matplotlib绘图最常用的简写，这是因为用户大部分绘图只会用到pyplot子模块中的功能特性。\n",
    "\n",
    "#### 设置风格\n",
    "\n",
    "使用plt.style()函数可以为创建的图形设置合适的美学风格。下面代码可以确保生成的图形使用经典的Matplotlib风格："
   ]
  },
  {
   "cell_type": "code",
   "execution_count": 2,
   "metadata": {},
   "outputs": [],
   "source": [
    "plt.style.use('classic')"
   ]
  },
  {
   "cell_type": "markdown",
   "metadata": {},
   "source": [
    "### 7.1.3 如何展示图形\n",
    "\n",
    "Matplotlib最佳的使用方法依赖于用户如何使用它，通常有3种应用绘图的场景：脚本、IPython Shell和Jupyter Notebook。\n",
    "\n",
    "#### 使用脚本绘制\n",
    "\n",
    "读者如果想要在脚本中使用Matplotlib，通常需要plt.show()函数发挥作用。该函数会寻找当前活跃的所有图形队形，打开一个或多个交互式的窗口展示图形。\n",
    "\n",
    "假设下面是代码文件plot.py的内容：\n",
    "\n",
    "```python\n",
    "# -*- coding: utf-8 -*- \n",
    "\n",
    "# 导入模块/包\n",
    "import matplotlib.pyplot as plt\n",
    "import numpy as np\n",
    "\n",
    "# 生成数据\n",
    "x = np.linspace(0, 20, 100)\n",
    "\n",
    "# 绘制图形\n",
    "plt.plot(x, np.sin(x))\n",
    "plt.plot(x, np.cos(x))\n",
    "\n",
    "# 显示图形\n",
    "plt.show()\n",
    "```\n",
    "\n",
    "接下来在终端中运行该脚本，读者将看到一个显示图形的窗口弹出来。在此处，plt.show()函数在后台进行了多项工作，它与系统的交互式图形后端进行交流，而Matplotlib向我们隐藏了所有的细节。"
   ]
  },
  {
   "cell_type": "markdown",
   "metadata": {},
   "source": [
    "```\n",
    "$ python plot.py\n",
    "```\n",
    "\n",
    "![图7-1 弹出的图形](images/chapter7/Figure_1.png)"
   ]
  },
  {
   "cell_type": "markdown",
   "metadata": {},
   "source": [
    "注意，如果是编写脚本文件进行绘图，一个文件尽量只使用一次plt.show()函数，如果使用多次，图形后端行为将变得不可预测。\n",
    "\n",
    "#### 从IPython Shell绘制\n",
    "\n",
    "在IPython Shell中使用Matplotlib非常方便，读者如果指定Matplotlib模式，IPython可以工作得非常好。启动IPython后键入魔术命令“%matplotlib”能够激活该模式。 "
   ]
  },
  {
   "cell_type": "code",
   "execution_count": 3,
   "metadata": {},
   "outputs": [
    {
     "name": "stdout",
     "output_type": "stream",
     "text": [
      "Using matplotlib backend: Qt5Agg\n"
     ]
    }
   ],
   "source": [
    "%matplotlib\n",
    "import matplotlib.pyplot as plt"
   ]
  },
  {
   "cell_type": "markdown",
   "metadata": {},
   "source": [
    "这时候读者如果调用plt.plot()函数就会打开一个图形窗口，然后接下来的绘图指令都可以更新这个图。有时候，一些对图形属性的更改不会及时生效，读者可以利用plt.draw()函数强制执行。\n",
    "\n",
    "#### 在Jupyter Notebook中绘制\n",
    "\n",
    "在Jupyter Notebook中使用Matplotlib进行交互式绘图也是使用魔术命令“%matplotlib”，它跟在IPython Shell中的工作方式差不多。读者可以使用以下两种选项：\n",
    "\n",
    "* `%matplotlib notebook` 会在Notebook中嵌入交互式图形\n",
    "* `%matplotlib inline` 会在Notebook张嵌入静态图形\n",
    "\n",
    "最常使用的是第二种方式。"
   ]
  },
  {
   "cell_type": "code",
   "execution_count": 4,
   "metadata": {},
   "outputs": [],
   "source": [
    "%matplotlib inline"
   ]
  },
  {
   "cell_type": "markdown",
   "metadata": {},
   "source": [
    "运行这条命令后，Notebook任何创建图形的单元格都会嵌入对应的PNG图形。例如，下面创建了一幅跟刚才执行python脚本类似的图形，不过这里略微修改了绘图数据的并设置了线条的类型。"
   ]
  },
  {
   "cell_type": "code",
   "execution_count": 5,
   "metadata": {
    "scrolled": true
   },
   "outputs": [
    {
     "data": {
      "text/plain": [
       "[<matplotlib.lines.Line2D at 0x7efef5b9bda0>]"
      ]
     },
     "execution_count": 5,
     "metadata": {},
     "output_type": "execute_result"
    },
    {
     "data": {
      "image/png": "[encoded data removed]",
      "text/plain": [
       "<Figure size 432x288 with 1 Axes>"
      ]
     },
     "metadata": {
      "needs_background": "light"
     },
     "output_type": "display_data"
    }
   ],
   "source": [
    "import numpy as np\n",
    "x = np.linspace(0, 10, 100)\n",
    "\n",
    "fig = plt.figure()  # 生成一个空白图形并将其赋给fig对象\n",
    "plt.plot(x, np.sin(x), '-')   # 绘制实线\n",
    "plt.plot(x, np.cos(x), '--')  # 绘制虚线"
   ]
  },
  {
   "cell_type": "markdown",
   "metadata": {},
   "source": [
    "请读者试试先运行%matplotlib notebook，再运行上述代码观察执行的结果。"
   ]
  },
  {
   "cell_type": "markdown",
   "metadata": {},
   "source": [
    "### 7.1.4 保存图形\n",
    "\n",
    "前面已经介绍过，Matplotlib支持各种系统和图形格式。Matplotlib的好用点还在于，保存所有图形格式的代码都是一样的，只需要调用图形对象的savefig()方法，非常简单易用。\n",
    "\n",
    "例如，我们用png格式保存刚创建的余弦曲线图，并进行检查。"
   ]
  },
  {
   "cell_type": "code",
   "execution_count": 9,
   "metadata": {},
   "outputs": [
    {
     "name": "stdout",
     "output_type": "stream",
     "text": [
      "-rw-r--r-- 1 wsx wsx 26306 2月  25 21:55 first.png\r\n"
     ]
    }
   ],
   "source": [
    "# 保存图形\n",
    "fig.savefig(\"first.png\")\n",
    "\n",
    "# 调用系统命令ls检查\n",
    "!ls -l first.png"
   ]
  },
  {
   "cell_type": "markdown",
   "metadata": {},
   "source": [
    "pdf是常见的矢量图形格式，现在我们使用一样的命令，仅改动一下保存的文件拓展名。"
   ]
  },
  {
   "cell_type": "code",
   "execution_count": 10,
   "metadata": {},
   "outputs": [
    {
     "name": "stdout",
     "output_type": "stream",
     "text": [
      "-rw-r--r-- 1 wsx wsx 8062 2月  25 21:58 first.pdf\r\n"
     ]
    }
   ],
   "source": [
    "# 保存pdf矢量图\n",
    "fig.savefig(\"first.pdf\")\n",
    "\n",
    "# 调用系统命令ls检查\n",
    "!ls -l first.pdf"
   ]
  },
  {
   "cell_type": "markdown",
   "metadata": {},
   "source": [
    "读者不妨使用pdf阅读器打开该文件看看。\n",
    "\n",
    "下面代码结果列出Matplotlib支持的所有图形格式："
   ]
  },
  {
   "cell_type": "code",
   "execution_count": 11,
   "metadata": {},
   "outputs": [
    {
     "data": {
      "text/plain": [
       "{'ps': 'Postscript',\n",
       " 'eps': 'Encapsulated Postscript',\n",
       " 'pdf': 'Portable Document Format',\n",
       " 'pgf': 'PGF code for LaTeX',\n",
       " 'png': 'Portable Network Graphics',\n",
       " 'raw': 'Raw RGBA bitmap',\n",
       " 'rgba': 'Raw RGBA bitmap',\n",
       " 'svg': 'Scalable Vector Graphics',\n",
       " 'svgz': 'Scalable Vector Graphics',\n",
       " 'jpg': 'Joint Photographic Experts Group',\n",
       " 'jpeg': 'Joint Photographic Experts Group',\n",
       " 'tif': 'Tagged Image File Format',\n",
       " 'tiff': 'Tagged Image File Format'}"
      ]
     },
     "execution_count": 11,
     "metadata": {},
     "output_type": "execute_result"
    }
   ],
   "source": [
    "fig.canvas.get_supported_filetypes()"
   ]
  },
  {
   "cell_type": "markdown",
   "metadata": {},
   "source": [
    "注意，由于不同读者使用的操作系统以及安装的图形后端都可能不同，因此支持的图形格式可能也会有所变化，因而如果与上述输出不一致也是正常的。"
   ]
  },
  {
   "cell_type": "markdown",
   "metadata": {},
   "source": [
    "### 7.1.5 两种绘图接口\n",
    "\n",
    "在前面的几小节中，我们基本在使用类似MATLAB的命令操作方式进行图形的创建工作。除了这种操作方式，Matplotlib还提供了比较原生的Python方式操作图形。每一个图形都是一个对象，读者可以通过对象方法的调用达到图形元素增改的目的。\n",
    "\n",
    "MATLAB操作方式非常地简便，而面向对象的方式则功能强大。大多数数据分析师或数据科学家在代码中往往同时使用两者，因此代码阅读时容易产生困惑。本小节对两种绘图接口进行简要介绍，理清它们的区别。\n",
    "\n",
    "#### MATLAB风格接口\n",
    "\n",
    "MATLAB风格接口由plt模块提供，plt包含一系列绘图命令（函数），与MATLAB基本一致。下面展示了如何利用plt快速绘制包含两个子图的图形："
   ]
  },
  {
   "cell_type": "code",
   "execution_count": 13,
   "metadata": {
    "scrolled": true
   },
   "outputs": [
    {
     "data": {
      "text/plain": [
       "[<matplotlib.lines.Line2D at 0x7eff288542b0>]"
      ]
     },
     "execution_count": 13,
     "metadata": {},
     "output_type": "execute_result"
    },
    {
     "data": {
      "image/png": "[encoded data removed]",
      "text/plain": [
       "<Figure size 432x288 with 2 Axes>"
      ]
     },
     "metadata": {
      "needs_background": "light"
     },
     "output_type": "display_data"
    }
   ],
   "source": [
    "# 创建一个图形\n",
    "plt.figure()\n",
    "\n",
    "# 创建两个子图面板\n",
    "# 创建第1个子图\n",
    "plt.subplot(2, 1, 1) \n",
    "plt.plot(x, np.cos(x))  # 绘制图形\n",
    "\n",
    "# 创建第2个子图\n",
    "plt.subplot(2, 1, 2)\n",
    "plt.plot(x, np.sin(x))  # 绘制图形"
   ]
  },
  {
   "cell_type": "markdown",
   "metadata": {},
   "source": [
    "这里使用了3个命令，每一个都非常简明：\n",
    "\n",
    "- figure()函数创建一个空白图形\n",
    "- subplot(rows, columns, subplot_number)函数创建子图，第1个参数设定子图行数，第2个参数设定子图列数，第3个参数设定子图序号\n",
    "- plot(x, y)函数绘制图形，第1个参数为x轴，第2个参数为y轴\n",
    "\n",
    "对于简单的图形来说，这种接口是极好的，它既快又简单。然而，如果绘制的图形比较复杂，可能就不适应或者出问题了。例如，当我们在操作第2个子图的时候，想要对已经绘制的第1个子图进行增删改，该怎么办？MATLAB风格的接口不可能完成这个任务。不过，我们还有更好的——面向对象接口。"
   ]
  },
  {
   "cell_type": "markdown",
   "metadata": {},
   "source": [
    "#### 面向对象接口"
   ]
  },
  {
   "cell_type": "markdown",
   "metadata": {},
   "source": [
    "## 7.2 基本图形绘制\n",
    "\n",
    "### 7.2.1 线图\n",
    "\n",
    "### 7.2.2 散点图\n",
    "\n",
    "### 7.2.3 直方图\n",
    "\n",
    "\n",
    "\n",
    "### 7.3.4 自定义图形\n",
    "\n",
    "## 7.4 章末小结"
   ]
  }
 ],
 "metadata": {
  "kernelspec": {
   "display_name": "Python 3",
   "language": "python",
   "name": "python3"
  },
  "language_info": {
   "codemirror_mode": {
    "name": "ipython",
    "version": 3
   },
   "file_extension": ".py",
   "mimetype": "text/x-python",
   "name": "python",
   "nbconvert_exporter": "python",
   "pygments_lexer": "ipython3",
   "version": "3.7.1"
  }
 },
 "nbformat": 4,
 "nbformat_minor": 2
}
