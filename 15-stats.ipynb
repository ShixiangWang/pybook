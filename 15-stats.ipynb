{
 "cells": [
  {
   "cell_type": "markdown",
   "metadata": {},
   "source": [
    "# 第 15 章 统计分析\n",
    "\n",
    "**本章内容提要**:\n",
    "\n",
    "- 图形化探索分析\n",
    "- 定量探索分析\n",
    "- 概率思维\n",
    "- 最优化参数估计\n",
    "- 自助法\n",
    "- 假设检验\n",
    "\n",
    "https://www.yiibai.com/python_data_science\n"
   ]
  },
  {
   "cell_type": "code",
   "execution_count": null,
   "metadata": {},
   "outputs": [],
   "source": []
  }
 ],
 "metadata": {
  "kernelspec": {
   "display_name": "Python 3",
   "language": "python",
   "name": "python3"
  },
  "language_info": {
   "codemirror_mode": {
    "name": "ipython",
    "version": 3
   },
   "file_extension": ".py",
   "mimetype": "text/x-python",
   "name": "python",
   "nbconvert_exporter": "python",
   "pygments_lexer": "ipython3",
   "version": "3.7.4"
  }
 },
 "nbformat": 4,
 "nbformat_minor": 2
}
